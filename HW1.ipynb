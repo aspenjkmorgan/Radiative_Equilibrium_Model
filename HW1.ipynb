{
  "nbformat": 4,
  "nbformat_minor": 0,
  "metadata": {
    "colab": {
      "provenance": []
    },
    "kernelspec": {
      "name": "python3",
      "display_name": "Python 3"
    },
    "language_info": {
      "name": "python"
    }
  },
  "cells": [
    {
      "cell_type": "markdown",
      "source": [
        "# Radiative equilibrium model"
      ],
      "metadata": {
        "id": "aHgXu_3bFzGS"
      }
    },
    {
      "cell_type": "code",
      "source": [
        "import numpy as np\n",
        "import matplotlib.pyplot as plt"
      ],
      "metadata": {
        "id": "6nInw4lNP6nI"
      },
      "execution_count": 1,
      "outputs": []
    },
    {
      "cell_type": "code",
      "source": [
        "class REM:\n",
        "\n",
        "  # INPUTS: total time of simulation, time step, mass at surface, pressure at surface, pressure step,\n",
        "  #   beta (SW absorption), alpha (surf reflectance), initial atmos temp, and r=frac decrease in sw absorption\n",
        "  # OUTPUTS: nothing\n",
        "  # SIDE EFFECTS: initializes and defines constants and arrays\n",
        "  def __init__(self, tot_time, del_t = 3600, m_sur=50_000/9.8, p_sur=100_000.0, del_p=5000.0, beta=0.0, alpha=0.3, T_i=50.0, r=0.5):\n",
        "    # Time constants\n",
        "    self.tot_time = tot_time # simulation time in seconds\n",
        "    self.del_t = del_t # time step in seconds\n",
        "\n",
        "    # Determine number of layers and levels\n",
        "    self.N = int(p_sur/del_p) # get number of layers and levels\n",
        "\n",
        "    # For levels:\n",
        "    self.S_0 = 1363.0 # W/m^2 (Solar irradiance)\n",
        "    self.alpha = alpha # surface albedo\n",
        "    self.ps = 1.0*np.arange(0, p_sur, del_p) # Pressures\n",
        "\n",
        "    # For layers\n",
        "    self.Cps = 1005*np.ones_like(self.ps) # Specific heat for air (J/K/kg\n",
        "    self.epsilons = np.ones_like(self.ps) # LW emissivities\n",
        "    for n in range(self.N - 1):\n",
        "      mid_p = (self.ps[n] + self.ps[n+1])/2\n",
        "      if mid_p  > 80_000:\n",
        "        self.epsilons[n] = 0.3\n",
        "      elif (mid_p > 40_000) & (mid_p <= 80_000):\n",
        "        self.epsilons[n] = 0.2\n",
        "      else:\n",
        "        self.epsilons[n] = 0.1\n",
        "    self.betas = beta * np.ones_like(self.ps) # SW absorptivities\n",
        "    for n in range(1, self.N):\n",
        "        self.betas[n] = self.betas[n-1]*r\n",
        "    self.betas[-1] = 0\n",
        "    self.ms = m_sur*np.ones_like(self.ps) # Masses\n",
        "    self.Ts = T_i*np.ones_like(self.ps) # Temperatures\n",
        "\n",
        "\n",
        "  # INPUT: none (everything initialized before)\n",
        "  # OUTPUT: array of temperatures by time step and then by pressure height\n",
        "  def run_sim(self):\n",
        "    sigma = 5.67e-8 # in W/m^2/K^4\n",
        "    all_Ts = 1.0*np.zeros((int(self.tot_time/self.del_t)+1, self.N))\n",
        "    all_Ts[0] = self.Ts\n",
        "\n",
        "    # loop through times\n",
        "    for t in np.arange(0, self.tot_time + self.del_t, self.del_t):\n",
        "\n",
        "      # empty arrays to hold fluxes\n",
        "      LW_downs = 1.0*np.zeros(self.N)\n",
        "      LW_ups = 1.0*np.zeros_like(LW_downs)\n",
        "      SW_downs = 1.0*np.zeros_like(LW_downs)\n",
        "\n",
        "      # get upward LW flux\n",
        "      LW_ups[-1] = sigma*(self.Ts[-1]**4)\n",
        "      for n in range(self.N-2, -1, -1): # just above surface (K=18) to TOA (K=0)\n",
        "        LW_ups[n] = (1-self.epsilons[n])*LW_ups[n+1] + self.epsilons[n]*sigma*(self.Ts[n]**4)\n",
        "\n",
        "      # get downward LW flux\n",
        "      LW_downs[0] = 0\n",
        "      LW_downs[1] = self.epsilons[0]*sigma*(self.Ts[0]**4)\n",
        "      for n in range(2, self.N): # K=2 to surface (K=19)\n",
        "        LW_downs[n] = (1-self.epsilons[n-1])*LW_downs[n-1] + self.epsilons[n-1]*sigma*(self.Ts[n-1]**4)\n",
        "\n",
        "      # get downward SW flux\n",
        "      SW_downs[0] = self.S_0/4\n",
        "      for n in range(1, self.N-1): # TOA to surface\n",
        "          SW_downs[n] = (1-self.betas[n-1])*SW_downs[n-1]\n",
        "      SW_downs[-1] = (1-self.alpha)*SW_downs[-2]\n",
        "\n",
        "      # convert levels to layers\n",
        "      Flw_up = 1.0*np.zeros_like(LW_downs)\n",
        "      Flw_down = 1.0*np.zeros_like(LW_downs)\n",
        "      Fsw = 1.0*np.zeros_like(LW_downs)\n",
        "\n",
        "      for n in range(self.N - 1):\n",
        "        Fsw[n] = SW_downs[n] - SW_downs[n+1]\n",
        "        Flw_down[n] = LW_downs[n] - LW_downs[n+1]\n",
        "      Fsw[-1] = 0 - SW_downs[-1]\n",
        "      Flw_down[-1] = 0 - LW_downs[-1]\n",
        "\n",
        "      Flw_up[-1] = 0 - LW_ups[-1]\n",
        "      for n in range(self.N-2, -1, -1):\n",
        "        Flw_up[n] = LW_ups[n+1] - LW_ups[n]\n",
        "\n",
        "\n",
        "      # get flux convergence for each layer\n",
        "      del_F = Flw_up + Flw_down + Fsw\n",
        "\n",
        "      # update temperatures and add to summary array\n",
        "      self.Ts = self.Ts + self.del_t*(del_F/(self.ms*self.Cps))\n",
        "      all_Ts[int(t/self.del_t)] = self.Ts\n",
        "\n",
        "    return all_Ts"
      ],
      "metadata": {
        "id": "_l-FjuPHIIsG"
      },
      "execution_count": 37,
      "outputs": []
    },
    {
      "cell_type": "code",
      "source": [
        "six_months_sim = REM(tot_time=6*30*24*3600)"
      ],
      "metadata": {
        "id": "kzKqPtbxLM8-"
      },
      "execution_count": 35,
      "outputs": []
    },
    {
      "cell_type": "code",
      "source": [
        "six_months_sim.ps"
      ],
      "metadata": {
        "colab": {
          "base_uri": "https://localhost:8080/"
        },
        "id": "MkAsKaKeALQt",
        "outputId": "44d8f704-6970-4949-f19e-0a0705a75ffc"
      },
      "execution_count": 36,
      "outputs": [
        {
          "output_type": "execute_result",
          "data": {
            "text/plain": [
              "array([     0.,   5000.,  10000.,  15000.,  20000.,  25000.,  30000.,\n",
              "        35000.,  40000.,  45000.,  50000.,  55000.,  60000.,  65000.,\n",
              "        70000.,  75000.,  80000.,  85000.,  90000.,  95000., 100000.])"
            ]
          },
          "metadata": {},
          "execution_count": 36
        }
      ]
    },
    {
      "cell_type": "code",
      "source": [
        "Ts = six_months_sim.run_sim()"
      ],
      "metadata": {
        "colab": {
          "base_uri": "https://localhost:8080/"
        },
        "id": "bp-z4j3Pjggg",
        "outputId": "b6be0496-b1b9-4eae-fbe8-6d42e52897c6"
      },
      "execution_count": 20,
      "outputs": [
        {
          "output_type": "stream",
          "name": "stderr",
          "text": [
            "<ipython-input-18-09d21dceac9e>:55: RuntimeWarning: overflow encountered in scalar power\n",
            "  LW_ups[-1] = sigma*(self.Ts[-1]**4)\n",
            "<ipython-input-18-09d21dceac9e>:57: RuntimeWarning: overflow encountered in scalar power\n",
            "  LW_ups[n] = (1-self.epsilons[n])*LW_ups[n+1] + self.epsilons[n]*sigma*(self.Ts[n]**4)\n",
            "<ipython-input-18-09d21dceac9e>:63: RuntimeWarning: overflow encountered in scalar power\n",
            "  LW_downs[n] = (1-self.epsilons[n-1])*LW_downs[n-1] + self.epsilons[n-1]*sigma*(self.Ts[n-1]**4)\n",
            "<ipython-input-18-09d21dceac9e>:78: RuntimeWarning: invalid value encountered in scalar subtract\n",
            "  Flw_down[n] = LW_downs[n] - LW_downs[n+1]\n",
            "<ipython-input-18-09d21dceac9e>:84: RuntimeWarning: invalid value encountered in scalar subtract\n",
            "  Flw_up[n] = LW_ups[n+1] - LW_ups[n]\n"
          ]
        }
      ]
    },
    {
      "cell_type": "code",
      "source": [
        "Ts[1900]"
      ],
      "metadata": {
        "colab": {
          "base_uri": "https://localhost:8080/"
        },
        "id": "q6prH4qGjktL",
        "outputId": "3fabe4c0-5458-485b-b21a-5f19368ac1b6"
      },
      "execution_count": 32,
      "outputs": [
        {
          "output_type": "execute_result",
          "data": {
            "text/plain": [
              "array([  50.63192462,   50.71208041,   50.80014448,   50.8970945 ,\n",
              "         51.0040068 ,   51.12206832,   51.25258981,   51.39702035,\n",
              "         53.50563756,   54.39976721,   55.5135215 ,   56.90246548,\n",
              "         58.63587817,   60.80019418,   63.50328967,   66.87981773,\n",
              "         86.10435674,  101.51971838,  238.74545007, -511.72339557])"
            ]
          },
          "metadata": {},
          "execution_count": 32
        }
      ]
    },
    {
      "cell_type": "markdown",
      "source": [
        "## Part 1) No ozone so B=0"
      ],
      "metadata": {
        "id": "O-vzFgPtaDJl"
      }
    },
    {
      "cell_type": "code",
      "source": [],
      "metadata": {
        "id": "0WpsMCLFjkD8"
      },
      "execution_count": null,
      "outputs": []
    },
    {
      "cell_type": "code",
      "source": [],
      "metadata": {
        "id": "MCQ5myR9ZiL6"
      },
      "execution_count": null,
      "outputs": []
    },
    {
      "cell_type": "markdown",
      "source": [
        "## Part 2) Ozone"
      ],
      "metadata": {
        "id": "Ff_LOxDUaJh0"
      }
    },
    {
      "cell_type": "code",
      "source": [],
      "metadata": {
        "id": "RZfPzP1paLMi"
      },
      "execution_count": null,
      "outputs": []
    }
  ]
}